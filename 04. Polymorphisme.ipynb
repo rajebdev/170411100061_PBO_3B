{
 "cells": [
  {
   "attachments": {},
   "cell_type": "markdown",
   "metadata": {},
   "source": [
    "### Polymorphisme ###\n",
    "\n",
    "<img src=\"https://2.bp.blogspot.com/-ARWYMdjTrh8/W8wAfLbVrsI/AAAAAAAACFo/XKMWEmUSJ1os-YiGCFyO5lhLtqkwYD2oQCLcBGAs/s320/5.0.jpg\"/>\n",
    "\n",
    "Polimorphisem berasal dari 2 kata yunani yaiut Poly (banyak) dan Morphism (bentuk).\n",
    "\n",
    "<img src=\"https://1.bp.blogspot.com/--72LxXO1jQA/W8wAgBUVElI/AAAAAAAACFs/2g3bAwNect4ZlKpswgU_1pAqTZeN6C7ggCLcBGAs/s1600/5.1.png\"/>\n",
    "\n",
    "Dengan kata lain polymorphisme adalah suatu bentuk banyak yang dimiliki kelas misalnya, pemanggilan kelas yang memiliki banyak bentuk. Bisa dengan standar, Function, dan Class Method.\n",
    "\n",
    "1. Polimorphism Basic\n",
    "    - Pemanggilan method kelas dengan melakukan pemanggilan masing masing object, lebih lama pengggunaannya.\n",
    "    \n",
    "2. Polimorphisme dengan Fungsi\n",
    "    - Yaitu polimorphisme yang pemanggilannya di bantuk dengan pembuatan fungsi baru pada main program.\n",
    "\n",
    "3. Polimorphism dengan Kelas Method\n",
    "    - Pemanggilannya dengan menggunakan looping setiap kelasnya kemudian dipanggil setiap methodnya. sehingga lebih cepat ketika banyak objek."
   ]
  },
  {
   "cell_type": "code",
   "execution_count": 10,
   "metadata": {},
   "outputs": [
    {
     "name": "stdout",
     "output_type": "stream",
     "text": [
      "===== Polymorisme with Basic =====\n",
      "\n",
      "Petani tinggal di Dataran Rendah.\n",
      "Petani Menanam Palawija di Sawah atau Ladang.\n",
      "Petani Memanen Makanan Pokok, Padi, Jagung.\n",
      "\n",
      "Pekebun tinggal di Dataran Tinggi.\n",
      "Pekebun Menanam Buah dan Sayur di Kebun.\n",
      "Pekebun Memanen Buah dan Sayuran.\n",
      "\n",
      "===== Polymorisme with Function =====\n",
      "\n",
      "Petani tinggal di Dataran Rendah.\n",
      "Petani Menanam Palawija di Sawah atau Ladang.\n",
      "Petani Memanen Makanan Pokok, Padi, Jagung.\n",
      "\n",
      "Pekebun tinggal di Dataran Tinggi.\n",
      "Pekebun Menanam Buah dan Sayur di Kebun.\n",
      "Pekebun Memanen Buah dan Sayuran.\n",
      "\n",
      "===== Polymorisme with Method =====\n",
      "\n",
      "Petani tinggal di Dataran Rendah.\n",
      "Petani Menanam Palawija di Sawah atau Ladang.\n",
      "Petani Memanen Makanan Pokok, Padi, Jagung.\n",
      "\n",
      "Pekebun tinggal di Dataran Tinggi.\n",
      "Pekebun Menanam Buah dan Sayur di Kebun.\n",
      "Pekebun Memanen Buah dan Sayuran.\n",
      "\n"
     ]
    }
   ],
   "source": [
    "class petani:\n",
    "    def tinggal(self):\n",
    "        return 'Petani tinggal di Dataran Rendah.'\n",
    "    def tanam(self):\n",
    "        return 'Petani Menanam Palawija di Sawah atau Ladang.'\n",
    "    def panen(self):\n",
    "        return 'Petani Memanen Makanan Pokok, Padi, Jagung.'\n",
    "\n",
    "class pekebun:\n",
    "    def tinggal(self):\n",
    "        return 'Pekebun tinggal di Dataran Tinggi.'\n",
    "    def tanam(self):\n",
    "        return 'Pekebun Menanam Buah dan Sayur di Kebun.'\n",
    "    def panen(self):\n",
    "        return 'Pekebun Memanen Buah dan Sayuran.'\n",
    "    \n",
    "#Basically\n",
    "print('===== Polymorisme with Basic =====\\n')\n",
    "worker1 = petani()\n",
    "print(worker1.tinggal())\n",
    "print(worker1.tanam())\n",
    "print(worker1.panen()+'\\n')\n",
    "\n",
    "worker2 = pekebun()\n",
    "print(worker2.tinggal())\n",
    "print(worker2.tanam())\n",
    "print(worker2.panen()+'\\n')\n",
    "\n",
    "#function\n",
    "print('===== Polymorisme with Function =====\\n')\n",
    "def in_indonesia(pekerja):\n",
    "    print(pekerja.tinggal()+'\\n'+pekerja.tanam()+'\\n'+pekerja.panen()+'\\n')\n",
    "    \n",
    "in_indonesia(petani())\n",
    "in_indonesia(pekebun())\n",
    "    \n",
    "#method    \n",
    "print('===== Polymorisme with Class Method =====\\n')\n",
    "for pekerja in (petani(),pekebun()):\n",
    "    print(pekerja.tinggal()+'\\n'+pekerja.tanam()+'\\n'+pekerja.panen()+'\\n')\n",
    "        "
   ]
  },
  {
   "attachments": {},
   "cell_type": "markdown",
   "metadata": {},
   "source": [
    "### Abstract Class ###\n",
    "\n",
    "<img src=\"https://3.bp.blogspot.com/-oK8udI2otI4/W8wAgfNGYQI/AAAAAAAACFw/_QM1nHaG-dcB8cjSxHjd-lBzq-TxA0jmwCLcBGAs/s1600/5.2.png\"/>\n",
    "\n",
    "Abstract kelas adalah sebuah kelas yang memiliki bentuk method namun ketika dipanggil tidak muncul dan melakukan apa apa. Biasanya abstract kelas digunakna oleh induk yang memiliki bentuk dasar saja, sehingga nanti turunan atau anaknya bisa melakukan pengisian kerangka atau bentukan tadi."
   ]
  },
  {
   "cell_type": "code",
   "execution_count": 7,
   "metadata": {},
   "outputs": [
    {
     "name": "stdout",
     "output_type": "stream",
     "text": [
      "Show pdf contents!\n"
     ]
    }
   ],
   "source": [
    "#Contoh Dari Abstract class\n",
    "\n",
    "class Document:\n",
    "    def __init__(self, name):\n",
    "        self.name = name\n",
    "\n",
    "    def show(self):\n",
    "        raise NotImplementedError(\"Subclass must implement abstract method\")\n",
    "\n",
    "class Pdf(Document):\n",
    "    def show(self):\n",
    "        return 'Show pdf contents!'\n",
    "    \n",
    "    \n",
    "doc = Document('doc1')\n",
    "#doc.show() # Maka akan muncul error atau bahkan tidak muncul apa apa\n",
    "\n",
    "pdf = Pdf('pdf1')\n",
    "print(pdf.show())"
   ]
  }
 ],
 "metadata": {
  "kernelspec": {
   "display_name": "Python 3",
   "language": "python",
   "name": "python3"
  },
  "language_info": {
   "codemirror_mode": {
    "name": "ipython",
    "version": 3
   },
   "file_extension": ".py",
   "mimetype": "text/x-python",
   "name": "python",
   "nbconvert_exporter": "python",
   "pygments_lexer": "ipython3",
   "version": "3.6.5"
  }
 },
 "nbformat": 4,
 "nbformat_minor": 2
}
