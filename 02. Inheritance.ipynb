{
 "cells": [
  {
   "attachments": {},
   "cell_type": "markdown",
   "metadata": {},
   "source": [
    "#### INHERITANCE ####\n",
    "\n",
    "Illustrasi\n",
    "\n",
    "<img src=\"https://4.bp.blogspot.com/-lIBIYftOS9M/W8wAZl7jSzI/AAAAAAAACFI/KDJdh1HfIHM2Y2sodL4HHuSJsAmkI9wbgCLcBGAs/s1600/3.0.gif\"/>\n",
    "\n",
    "\n",
    "1. Pengertian\n",
    "\n",
    "    Inheritance adalah sebuah penurunan sifat dari kelas lain (kelas induk) kepada kelas baru. dimana kelas baru ini akan menjadi anak dari kelas induk. kelas anak juga mewarisi method dan property dasar dari kelas induk.\n",
    "    Disini dapat diilustrasikan di bidang biologi dimana penurunan sifat dapat terjadi pada orang tua yang menurunkan sifatnya pada anakanya.\n",
    "    \n",
    "    \n",
    "2. Pembuatan Inheritance\n",
    "\n",
    "    - Pertama Kita membuat kelas induk (eg. User) yang berisi property nama dan method printnama.\n",
    "    - Kita buat kelas baru (eg. Programer) dengan parameter kelas induk (eg. User). perhatikan contoh dibawah ini.\n",
    "    - kemudian kita lakukan super didalam konstraktor dimana merupakan salah satu type dari inheritance.\n",
    "    - kita buat method baru dengan nama print lastname dan doPython. sehingga sampai saat ini kelas Programer miliki 3 method. 1 method dari kelas induk.\n",
    "\n",
    "3. Pembuatan Inheritance penurunan sifat seluruh tanpa penambahan.\n",
    "    - Buat sebuah kelas baru (eg. Programer 1) dengan parameter User (kelas Induk). kemudian cukup isikan dengan \"pass\". maka kelas tersebut sudah menuruni semua property dan method dari kelas induk.\n",
    "    \n",
    "\n",
    "4. Bentuk dari Inheritance\n",
    "\n",
    "    <img src=\"https://3.bp.blogspot.com/-l-mNHeFMiPk/W8wAc97xVzI/AAAAAAAACFU/pHd6dihrCecVhLb6YAm3jUcwzjVBVN1MgCLcBGAs/s1600/3.1.jpg\"/>\n",
    "    \n",
    "    a. Simple Inheritance\n",
    "       Membuat kelas induk bernama A. kemudian membuat kelas baru bernama B dengan parameter kelas Induk A. inilah yang dinamakan simple inheritance yaitu penurunan satu induk ke satu anak kelas.\n",
    "       \n",
    "    b. Multilevel Inheritance\n",
    "       Membuat kelas baru bernama C dengan parameter kelas B (yang merupakan turunan dari kelas A). Sampai disini C sudah menuruni sifat dari A dan B. dimana A sebagai grandparrent dan B sebagai parrent, sedangkan C sebagai child.\n",
    "       \n",
    "    c. Heirarchical Inheritance\n",
    "       Bentuk ini yaitu satu parrent menurunkan sifatnya pada dua anaknya.\n",
    "       dimana kelas induk A menurunkan sifatnya pada kelas anak B dan C.\n"
   ]
  },
  {
   "cell_type": "code",
   "execution_count": 1,
   "metadata": {},
   "outputs": [
    {
     "name": "stdout",
     "output_type": "stream",
     "text": [
      "Nama : brian\n",
      "Nama : diana1\n",
      "last Nama :  diana\n",
      "Programming Python\n",
      "Nama : rajeb\n"
     ]
    }
   ],
   "source": [
    "class User(object):\n",
    "    def __init__(self,name=\"rajeb\"):\n",
    "        self.name = name;\n",
    "    def printName(self):\n",
    "        print(\"Nama :\",self.name)\n",
    "\n",
    "class Programmer(User):\n",
    "    def __init__(self, lastname):\n",
    "        self.lastname = lastname;\n",
    "        super().__init__()\n",
    "        \n",
    "    def printLastName(self):\n",
    "        print(\"last Nama : \", self.lastname)\n",
    "    def doPython(self):\n",
    "        print('Programming Python')\n",
    "        \n",
    "class Programmer1(User):\n",
    "    pass\n",
    "\n",
    "\n",
    "brian = User('brian')\n",
    "brian.printName()\n",
    "\n",
    "diana1 = Programmer1('diana1')\n",
    "diana1.printName()\n",
    "\n",
    "\n",
    "diana = Programmer('diana')\n",
    "diana.printLastName()\n",
    "diana.doPython()\n",
    "diana.printName()"
   ]
  },
  {
   "cell_type": "markdown",
   "metadata": {},
   "source": [
    "##### Kelas Fish #####\n",
    "\n",
    "Sama Seperti membuat kelas User dan Programer, pada pembuatan kelas fish dan turunannya juga seperti itu. \n",
    "Namun bedanya pada kelas clownFish ditambahkan method baru tanpa ada pembuatan konstraktor baru."
   ]
  },
  {
   "cell_type": "code",
   "execution_count": 28,
   "metadata": {},
   "outputs": [
    {
     "name": "stdout",
     "output_type": "stream",
     "text": [
      "terry Fish bone False\n",
      "larry garry\n",
      "Ikan Dapat Berenang\n"
     ]
    }
   ],
   "source": [
    "class Fish:\n",
    "    def __init__(self, firstname, lastname='Fish', skeleton='bone', eyelids=False):\n",
    "        self.firstname = firstname;\n",
    "        self.lastname = lastname;\n",
    "        self.skeleton = skeleton;\n",
    "        self.eyelids = eyelids\n",
    "    def swim(self):\n",
    "        print('Ikan Dapat Berenang');\n",
    "    def swim_backwards(self):\n",
    "        print('Ikan dapat berenang ke belakang')\n",
    "\n",
    "class Trout(Fish):\n",
    "    pass\n",
    "\n",
    "class clownFish(Fish):\n",
    "    def life_with_anemone():\n",
    "        print('the clownfish is coexisting with sea anemone.')\n",
    "        \n",
    "        \n",
    "terry = Trout('terry')\n",
    "print(terry.firstname, terry.lastname, terry.skeleton, terry.eyelids)\n",
    "\n",
    "larry = clownFish('larry','garry')\n",
    "print(larry.firstname, larry.lastname)\n",
    "larry.swim()"
   ]
  }
 ],
 "metadata": {
  "kernelspec": {
   "display_name": "Python 3",
   "language": "python",
   "name": "python3"
  },
  "language_info": {
   "codemirror_mode": {
    "name": "ipython",
    "version": 3
   },
   "file_extension": ".py",
   "mimetype": "text/x-python",
   "name": "python",
   "nbconvert_exporter": "python",
   "pygments_lexer": "ipython3",
   "version": "3.6.5"
  }
 },
 "nbformat": 4,
 "nbformat_minor": 2
}
