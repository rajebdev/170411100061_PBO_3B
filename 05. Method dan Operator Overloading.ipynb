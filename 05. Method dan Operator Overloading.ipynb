{
 "cells": [
  {
   "cell_type": "markdown",
   "metadata": {},
   "source": [
    "### Method dan Operator Overloading ###\n",
    "\n",
    "<img src=\"https://4.bp.blogspot.com/-9io-s5xkQLI/W8wGs9OAVnI/AAAAAAAACGQ/_0suEJO5t2AmKxwYtFDcLhy_04tH4OVewCLcBGAs/s1600/6.0.gif\"/>\n",
    "\n",
    "Dengan Python Anda dapat menentukan metode sedemikian rupa sehingga ada beberapa cara untuk memanggilnya. Dengan hanya satu method atau fungsi, kita dapat menentukan jumlah parameternya sendiri. Tergantung pada definisi fungsi, bisa disebut dengan nol, satu, dua atau lebih parameter. \n",
    "\n",
    "<img src=\"https://4.bp.blogspot.com/-jAbmYfaRza0/W8wGtA-MC3I/AAAAAAAACGU/Z01Cx-kw6IsGzxsxG1vcdIvETPkMifBTwCLcBGAs/s1600/6.1.png\"/>\n",
    "\n",
    "Jadi dapat disimpulkan Overloading merupakan salah satu konsep dalam pemrogramaan berorientasi objek dimana dalam suatu class terdapat beberapa method dengan nama yang sama namun  memiliki berbagai fungsi yang berbeda, tergantung dari parameter yang digunakan. Method Overloading juga dikenal dengan sebutan Static Polymorphism. dan juga dilain pendapat Method overloading adalah sebuah method atau fungsi yang dapat kita panggil dengan banyak cara, dimana kita dapat menempatkan beberapa parameter.\n",
    "\n",
    "Pada method overloading perbedaan parameter mencakup :\n",
    "1.\tJumlah parameter\n",
    "2.\tTipe data dari parameter\n",
    "3.\tUrutan dari tipe data parameter\n",
    "\n",
    "Tidak semua bahasa pemrograman mendukung metode overloading, tetapi Python tidak. Namun bisa diakali dengan menggunakna beberapa kondisi.\n",
    "\n",
    "Bedanya dengan Overriding yaitu kalau Overriding merupakan method yang parrent class yang ditulis kembali oleh subclass. Dengan aturan sebagai berikut :\n",
    "1.\tNama dan Parameter harus sama antara kelas induk dan kelas anak.\n",
    "2.\tMethod pada kelas anak harus lebih fleksibel dari kelas induk.\n",
    "\n",
    "\n",
    "Nb.<br>\n",
    "Method Overloading : Satu Fungsi bisa dipanggil banyak cara\n",
    "Method Overridding : Banyak Fungsi namun dipanggil yang terakhir saja\n",
    "\n",
    "kalau method overloading yg di overloading Methodnya\n",
    "kalau operator overloading yang di overloading isi data classnya dalam hal menambahkan atau menggabungkan atau yg lain\n",
    "\n",
    "operator overloading digunakan untuk mendefinisikan sebuah method yang spesial.\n",
    "\n"
   ]
  },
  {
   "cell_type": "code",
   "execution_count": 27,
   "metadata": {},
   "outputs": [
    {
     "name": "stdout",
     "output_type": "stream",
     "text": [
      "Hallo\n",
      "HalloRajeb\n"
     ]
    }
   ],
   "source": [
    "#Contoh Method Overloading di python\n",
    "\n",
    "class Human:\n",
    "    def sayHello(self, name=None):\n",
    "        if name != None:\n",
    "            print('Hallo  '+name)\n",
    "        else:\n",
    "            print('Hallo')\n",
    "obj = Human()\n",
    "obj.sayHello()\n",
    "obj.sayHello(\"Rajeb\")"
   ]
  },
  {
   "cell_type": "markdown",
   "metadata": {},
   "source": [
    "#### Operator Overloading ####\n",
    "\n",
    "Operator Overloading adalah sebuah method spesial yang dimiliki sebuah kelas, yang bisa digunakan untuk melakukan hubungan antar kelas atau antar objek. Dimana operator overloading digunakan untuk mendefinisikan sebuah method yang spesial.\n",
    "\n",
    "<img src=\"https://2.bp.blogspot.com/-5DM6FT6z9wo/W8wGtIEugQI/AAAAAAAACGY/1-gQTUmJw_0qQbyUrdjqU9BrNLv6w4UogCLcBGAs/s1600/6.2.png\"/>\n",
    "\n",
    "Beberapa Jenis Operator Overloading Sebagai Berikut :\n",
    "\n",
    "<img width= \"480\" src=\"https://2.bp.blogspot.com/-yfjoHfuZdQo/W8wGwYCGDAI/AAAAAAAACGk/TyrMSHOAOSIGbYyQ6vS9fSBSyQct1PftwCLcBGAs/s1600/6.4.png\"/>\n",
    "\n",
    "<img width= \"480\" src=\"https://4.bp.blogspot.com/-EQU3UIflyx8/W8wGvmbIBhI/AAAAAAAACGg/6r22ROuaj1UGqn23eyLgzBEiQNGSsh7hgCLcBGAs/s1600/6.5.png\"/>\n",
    "\n",
    "<img width= \"480\" src=\"https://2.bp.blogspot.com/-FZZE_374Bhw/W8wGxnYZKZI/AAAAAAAACGo/o3RkqkpnIyUF-6NW3-nsrlffoLnip86TACLcBGAs/s1600/6.6.png\"/>"
   ]
  },
  {
   "cell_type": "code",
   "execution_count": 2,
   "metadata": {},
   "outputs": [
    {
     "name": "stdout",
     "output_type": "stream",
     "text": [
      "2/10 + 2/10 = 40/100\n",
      "2/10 * 2/10 = 4/100\n"
     ]
    }
   ],
   "source": [
    "#Contoh Operator Overloading pada python\n",
    "\n",
    "class Fraction():\n",
    "    def __init__(self, top, bottom):\n",
    "        self.num = top\n",
    "        self.den = bottom\n",
    "        \n",
    "    def show(self):\n",
    "        print(self.num, '/', self.den)\n",
    "    \n",
    "    def __str__(self):\n",
    "        return str(self.num)+'/'+str(self.den)\n",
    "\n",
    "    def __add__(self, other):\n",
    "        num = self.num*other.den + self.den*other.num\n",
    "        den = self.den * other.den\n",
    "        return(Fraction(num,den))\n",
    "    \n",
    "    def __mul__(self,other):\n",
    "        num = self.num * other.num\n",
    "        den = self.den * other.den\n",
    "        return (Fraction(num,den))\n",
    "    \n",
    "f1 = Fraction(2,10)\n",
    "f2 = Fraction(2,10)\n",
    "print(f1,'+',f2,'=',f1 + f2)\n",
    "print(f1,'*',f2,'=',f1 * f2)"
   ]
  },
  {
   "cell_type": "code",
   "execution_count": 24,
   "metadata": {},
   "outputs": [
    {
     "name": "stdout",
     "output_type": "stream",
     "text": [
      "128\n",
      "Jarak Point Object at (9, 9) ke Point Object at (1, 1) = 11.313708498984761\n"
     ]
    }
   ],
   "source": [
    "#Contoh Modifikasi Operator overloading pada python\n",
    "\n",
    "class Point:\n",
    "    def __init__(self, x=0, y=0):\n",
    "        self.x = x\n",
    "        self.y = y\n",
    "    def __str__(self):\n",
    "        return ('Point Object at (%s, %s)'%(self.x , self.y))\n",
    "    \n",
    "    def __add__(self, other):\n",
    "        x = self.x + other.x\n",
    "        y = self.y + other.y\n",
    "        return Point(x, y)\n",
    "    \n",
    "    #def __sub__(self,other):\n",
    "    #    x = self.x - other.x\n",
    "    #    y = self.y - other.y\n",
    "    #    return Point(x,y)\n",
    "        \n",
    "    def __floordiv__(self,other):\n",
    "        x = self.x // other.x\n",
    "        y = self.y // other.y\n",
    "        return Point(x,y)\n",
    "    \n",
    "    def __sub__(self, other):\n",
    "        x = self.x - other.x\n",
    "        y = self.y - other.y\n",
    "        if x == 0:\n",
    "            if y < 0:\n",
    "                jarak = -y\n",
    "            else:\n",
    "                jarak = y\n",
    "        elif y == 0:\n",
    "            if x < 0:\n",
    "                jarak = -x\n",
    "            else:\n",
    "                jarak = x\n",
    "        else:\n",
    "            jarak = self.__miring__(other)\n",
    "        return jarak\n",
    "    \n",
    "    def __miring__(self, other):\n",
    "        if self.y > other.x:\n",
    "            a = self.y - other.x\n",
    "        else:\n",
    "            a = other.x - self.y\n",
    "        if self.x > other.y:\n",
    "            b = self.x - other.y\n",
    "        else:\n",
    "            b = other.y - self.x\n",
    "        c = a**2 + b**2\n",
    "        print(c)\n",
    "        return c**(1/2)\n",
    "        \n",
    "    \n",
    "    \n",
    "\n",
    "p1 = Point(1,1)\n",
    "p2 = Point(9,1)\n",
    "p3 = Point(9,9)\n",
    "p4 = Point(1,9)\n",
    "\n",
    "#print(p1 + p2)\n",
    "#print(p1.__add__(p2))\n",
    "#print((p1+p2)//(p1.__add__(p2)))\n",
    "\n",
    "print('Jarak',p3,'ke',p1,'=',p3 - p1)\n",
    "\n",
    "#print('Luas = ',(p1 - p2)*(p3-p2))"
   ]
  }
 ],
 "metadata": {
  "kernelspec": {
   "display_name": "Python 3",
   "language": "python",
   "name": "python3"
  },
  "language_info": {
   "codemirror_mode": {
    "name": "ipython",
    "version": 3
   },
   "file_extension": ".py",
   "mimetype": "text/x-python",
   "name": "python",
   "nbconvert_exporter": "python",
   "pygments_lexer": "ipython3",
   "version": "3.6.5"
  }
 },
 "nbformat": 4,
 "nbformat_minor": 2
}
