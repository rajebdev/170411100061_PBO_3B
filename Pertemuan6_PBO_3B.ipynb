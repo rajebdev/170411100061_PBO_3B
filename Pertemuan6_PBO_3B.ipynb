{
 "cells": [
  {
   "cell_type": "markdown",
   "metadata": {},
   "source": [
    "ada 2 penulisan \n",
    "\n",
    "contoh konsep overloading dan overridding"
   ]
  },
  {
   "cell_type": "code",
   "execution_count": 10,
   "metadata": {},
   "outputs": [
    {
     "name": "stdout",
     "output_type": "stream",
     "text": [
      "===== Polymorisme with Basic =====\n",
      "\n",
      "Petani tinggal di Dataran Rendah.\n",
      "Petani Menanam Palawija di Sawah atau Ladang.\n",
      "Petani Memanen Makanan Pokok, Padi, Jagung.\n",
      "\n",
      "Pekebun tinggal di Dataran Tinggi.\n",
      "Pekebun Menanam Buah dan Sayur di Kebun.\n",
      "Pekebun Memanen Buah dan Sayuran.\n",
      "\n",
      "===== Polymorisme with Function =====\n",
      "\n",
      "Petani tinggal di Dataran Rendah.\n",
      "Petani Menanam Palawija di Sawah atau Ladang.\n",
      "Petani Memanen Makanan Pokok, Padi, Jagung.\n",
      "\n",
      "Pekebun tinggal di Dataran Tinggi.\n",
      "Pekebun Menanam Buah dan Sayur di Kebun.\n",
      "Pekebun Memanen Buah dan Sayuran.\n",
      "\n",
      "===== Polymorisme with Method =====\n",
      "\n",
      "Petani tinggal di Dataran Rendah.\n",
      "Petani Menanam Palawija di Sawah atau Ladang.\n",
      "Petani Memanen Makanan Pokok, Padi, Jagung.\n",
      "\n",
      "Pekebun tinggal di Dataran Tinggi.\n",
      "Pekebun Menanam Buah dan Sayur di Kebun.\n",
      "Pekebun Memanen Buah dan Sayuran.\n",
      "\n"
     ]
    }
   ],
   "source": [
    "class petani:\n",
    "    def tinggal(self):\n",
    "        return 'Petani tinggal di Dataran Rendah.'\n",
    "    def tanam(self):\n",
    "        return 'Petani Menanam Palawija di Sawah atau Ladang.'\n",
    "    def panen(self):\n",
    "        return 'Petani Memanen Makanan Pokok, Padi, Jagung.'\n",
    "\n",
    "class pekebun:\n",
    "    def tinggal(self):\n",
    "        return 'Pekebun tinggal di Dataran Tinggi.'\n",
    "    def tanam(self):\n",
    "        return 'Pekebun Menanam Buah dan Sayur di Kebun.'\n",
    "    def panen(self):\n",
    "        return 'Pekebun Memanen Buah dan Sayuran.'\n",
    "    \n",
    "#Basically\n",
    "print('===== Polymorisme with Basic =====\\n')\n",
    "worker1 = petani()\n",
    "print(worker1.tinggal())\n",
    "print(worker1.tanam())\n",
    "print(worker1.panen()+'\\n')\n",
    "\n",
    "worker2 = pekebun()\n",
    "print(worker2.tinggal())\n",
    "print(worker2.tanam())\n",
    "print(worker2.panen()+'\\n')\n",
    "\n",
    "#function\n",
    "print('===== Polymorisme with Function =====\\n')\n",
    "def in_indonesia(pekerja):\n",
    "    print(pekerja.tinggal()+'\\n'+pekerja.tanam()+'\\n'+pekerja.panen()+'\\n')\n",
    "    \n",
    "in_indonesia(petani())\n",
    "in_indonesia(pekebun())\n",
    "    \n",
    "#method    \n",
    "print('===== Polymorisme with Method =====\\n')\n",
    "for pekerja in (petani(),pekebun()):\n",
    "    print(pekerja.tinggal()+'\\n'+pekerja.tanam()+'\\n'+pekerja.panen()+'\\n')\n",
    "        "
   ]
  },
  {
   "cell_type": "code",
   "execution_count": null,
   "metadata": {},
   "outputs": [],
   "source": []
  }
 ],
 "metadata": {
  "kernelspec": {
   "display_name": "Python 3",
   "language": "python",
   "name": "python3"
  },
  "language_info": {
   "codemirror_mode": {
    "name": "ipython",
    "version": 3
   },
   "file_extension": ".py",
   "mimetype": "text/x-python",
   "name": "python",
   "nbconvert_exporter": "python",
   "pygments_lexer": "ipython3",
   "version": "3.6.5"
  }
 },
 "nbformat": 4,
 "nbformat_minor": 2
}
