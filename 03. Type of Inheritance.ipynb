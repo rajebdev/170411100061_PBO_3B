{
 "cells": [
  {
   "cell_type": "markdown",
   "metadata": {},
   "source": [
    "### Type Of Inheritance ###\n",
    "\n",
    "<img width=\"640\" src=\"https://2.bp.blogspot.com/-F7ONvbzNkzs/W8wAdq03wqI/AAAAAAAACFY/S_VA0Lo1tZwtS0y6aySYVfsHSdUifh9vgCLcBGAs/s1600/4.0.png\"/>\n",
    "\n",
    "Seperti yang sudah kita pelajari sebelumnya yaitu inheritance adalah sebuah penurunan sifat yaitu termasuk property dan method yang ada pada kelas induk.\n",
    "\n",
    "Berikut ini jenis dari penurunan sifat:\n",
    "1. Default Inheritance\n",
    "    - Penurunan semua sifat (property dan method) dari induk kepada kelas anak tanpa ada penambahan method lain. Biasanya pembuatan kelas ini hanya dengan mengisi pass pada isi kelasnya.\n",
    "    \n",
    "2. Overidding Inheritance\n",
    "    - Inheritance yang mengganti method atau property pada kelas induk dengan method dan property baru dalam kelas anak.\n",
    "    \n",
    "3. Super Inheritance\n",
    "    - Menurunkan semua property dan method dari induk kepada kelas anak, agar anak dapat mengakses lebih dari kkelas induk.\n",
    "    \n",
    "4. Multiple Inheritance\n",
    "    - Penurunan warisan dari dua buah kelas induk atau lebih (eg. ayah dan ibu) kepada kelas anak, jadi anak memiliki 2 parameter induk. Dimana anak mewarisi semua hal yang dimiliki oleh kedua kelas induk."
   ]
  },
  {
   "cell_type": "markdown",
   "metadata": {},
   "source": [
    "##### Contoh default inheritance #####\n",
    "\n",
    "Dibawah ini adalah contoh dari default inheritance dimana kelas Programmer mewarisi sifat dari kelas induk User. cara ini dengan menggunakan pass pada kelas anak. Perhatikan contoh dibawah ini. "
   ]
  },
  {
   "cell_type": "code",
   "execution_count": 5,
   "metadata": {},
   "outputs": [
    {
     "name": "stdout",
     "output_type": "stream",
     "text": [
      "Nama : brian\n",
      "Nama : diana1\n"
     ]
    }
   ],
   "source": [
    "#contoh program default inheritance\n",
    "\n",
    "class User(object):\n",
    "    def __init__(self,name=\"rajeb\"):\n",
    "        self.name = name;\n",
    "    def printName(self):\n",
    "        print(\"Nama :\",self.name)\n",
    "        \n",
    "class Programmer1(User):\n",
    "    pass\n",
    "\n",
    "\n",
    "brian = User('brian')\n",
    "brian.printName()\n",
    "\n",
    "diana1 = Programmer1('diana1')\n",
    "diana1.printName()"
   ]
  },
  {
   "attachments": {},
   "cell_type": "markdown",
   "metadata": {},
   "source": [
    "##### contoh dari overidding Inherintance #####\n",
    "\n",
    "<img width=\"640\" src=\"https://1.bp.blogspot.com/-AoB-wm9rgsU/W8wAeG2nqOI/AAAAAAAACFc/v7ELktTI0-M437502pqVC2Rxcre66UpdgCLcBGAs/s1600/4.1.png\"/>\n",
    "\n",
    "Penggunaan overidding nama method yang ada di kelas anak harus sama dengan nama method yang di overidding di kelas induk.\n",
    "Walaupun isi dari methodnya berbeda.\n",
    "\n",
    "Di bawah ini contoh dari overriding dimana shark merupakan anak dari kelas fish.\n",
    "disini yang di overidding adalah method swim backwards, dimana meskipun isinya berbeda namuun ketika dipanggil tetap yang keluar adalah method yang ada di kelas anak."
   ]
  },
  {
   "cell_type": "code",
   "execution_count": 4,
   "metadata": {},
   "outputs": [
    {
     "name": "stdout",
     "output_type": "stream",
     "text": [
      "The shark cannot swim backward, but can sink backwards\n"
     ]
    }
   ],
   "source": [
    "#contoh program mengunakan overriding\n",
    "\n",
    "class fish:\n",
    "    def __init__(self,first_name='fish',skeleton='bone',eyelids=False):\n",
    "        self.first_name=first_nam\n",
    "        self.skeleton=skeleton\n",
    "        self.eyelids=eyelids\n",
    "    def swim(self):\n",
    "        print ('The fish is swiming')\n",
    "    def swim_backwards(self):\n",
    "        print ('The fish cah swim backward')\n",
    "        \n",
    "class Shark(fish):\n",
    "    def __init__(self,first_name,last_name='shark',skeleton='cartilage',eyelids=True):\n",
    "        self.first_name=first_name\n",
    "        self.last_name=last_name\n",
    "        self.skeleton=skeleton\n",
    "        self.eyelids=eyelids\n",
    "    def swim_backwards(self):\n",
    "        print ('The shark cannot swim backward, but can sink backwards')\n",
    "\n",
    "hiu=Shark('hiu besar')\n",
    "hiu.swim_backwards()"
   ]
  },
  {
   "cell_type": "markdown",
   "metadata": {},
   "source": [
    "Berikut juga contoh dari penggunaan overidding pada method deskripsi."
   ]
  },
  {
   "cell_type": "code",
   "execution_count": 3,
   "metadata": {},
   "outputs": [
    {
     "name": "stdout",
     "output_type": "stream",
     "text": [
      "jumlah segi:  4\n",
      "bentuk:  persegi\n",
      "ada 2 pasang yang memunyai panjang sisi yang sama\n"
     ]
    }
   ],
   "source": [
    "#contoh program menggunakan overriding\n",
    "\n",
    "class persegi:\n",
    "    def __init__(self,sisi=4, bentuk='persegi'):\n",
    "        self.sisi = sisi\n",
    "        self.bentuk = bentuk\n",
    "    def display(self):\n",
    "        print ('jumlah segi: ', self.sisi)\n",
    "        print ('bentuk: ',self.bentuk)\n",
    "    def deskripsi(self):\n",
    "        print ('mempunyao sisi yang sama panjang')\n",
    "        \n",
    "class persegiPanjang(persegi):\n",
    "    def __init__(self,sisi=4,bentuk='persegi panjang'):\n",
    "        self.sisi=sisi\n",
    "        self.bentuk=bentuk\n",
    "    def deskripsi(self):\n",
    "        print ('ada 2 pasang yang memunyai panjang sisi yang sama')\n",
    "\n",
    "class bujurSangkar(persegi):\n",
    "    def __init__(self,sisi=4,bentuk='bujur sangkar'):\n",
    "        self.sisi=sisi\n",
    "        self.bentuk=bentuk\n",
    "    def deskripsi(self):\n",
    "        print('keempatnya sama panjang')\n",
    "        \n",
    "A=persegi()\n",
    "A.display()\n",
    "B=persegiPanjang()\n",
    "B.deskripsi()\n"
   ]
  },
  {
   "attachments": {},
   "cell_type": "markdown",
   "metadata": {},
   "source": [
    "##### Contoh dari super inheritance #####\n",
    "\n",
    "<img src=\"https://4.bp.blogspot.com/-WfPjGxG0Mug/W8wAegDEevI/AAAAAAAACFk/RuzEFXLRKlolQuNDBr7IxA6_bA8hO4rewCLcBGAs/s1600/4.2.png\"/>\n",
    "\n",
    "Inheritance super digunakan agar kelas anak bisa mengakses keseluruhan dari kelas induk. juga agar kelas anak bisa mengisi parameter yang dibutuhkan pada kelas induk. sehingga lebih mudah untuk dikustomisasi.<br>\n",
    "Super biasa dipanggil dengan super().method(parameter) atau dengan nama induk lingkaran.method(self,parameter) tentu saja dengan menambahkan self agar tidak terjadi error."
   ]
  },
  {
   "cell_type": "code",
   "execution_count": 2,
   "metadata": {},
   "outputs": [
    {
     "name": "stdout",
     "output_type": "stream",
     "text": [
      "                               ===== No. 1 =====                                \n",
      "Jari-jari : 7\n",
      "Luas Permukaan : 747.70 cm^2\n",
      "Volume         : 1539.38 cm^3\n"
     ]
    }
   ],
   "source": [
    "#contoh program menggunakan super dan overriding\n",
    "\n",
    "print('===== No. 1 ====='.center(80))\n",
    "import math\n",
    "class lingkaran:\n",
    "    def __init__(self,jari2):\n",
    "        self.jari2 = jari2;\n",
    "        \n",
    "    def showRadian(self):\n",
    "        print('Jari-jari :', self.jari2)\n",
    "    def luasPermukaan(self):\n",
    "        print('Luasnya   : %0.2f cm^2'% (math.pi*(self.jari2**2)));\n",
    "    def keliling(self):\n",
    "        print('Keliling  : %0.2f cm'% (math.pi*(self.jari2*2)))\n",
    "\n",
    "class tabung(lingkaran):\n",
    "    def __init__(self,jari2,tinggi):\n",
    "        super().__init__(jari2)\n",
    "        self.tinggi = tinggi\n",
    "    def luasPermukaan(self):\n",
    "        print('Luas Permukaan : %0.2f cm^2'% ((2*math.pi*(self.jari2)*(self.tinggi+self.jari2))))\n",
    "    def volume(self):\n",
    "        print('Volume         : %0.2f cm^3'% (math.pi*(self.jari2**2)*self.tinggi))\n",
    "\n",
    "tab1 = tabung(7,10)\n",
    "tab1.showRadian()\n",
    "tab1.luasPermukaan()\n",
    "tab1.volume()"
   ]
  },
  {
   "attachments": {},
   "cell_type": "markdown",
   "metadata": {},
   "source": [
    "##### Contoh dari multiple inheritance ####\n",
    "\n",
    "<img src=\"https://2.bp.blogspot.com/--8yDx8BQRn4/W8wAee-2odI/AAAAAAAACFg/ytIoi_m8KMMaYycwMxVd2_98DulxYZsOwCLcBGAs/s1600/4.3.png\"/>\n",
    "\n",
    "Multiple inheritance seperti yang kita ketahui merupakan kelas baru anak yang mewarisi dari 2 buah parrent atau lebih.\n",
    "\n",
    "Dibawah ini contoh multiple inheritance dimana krs mewarisi dari 2 buah parrent yaitu mahasiswa dan matakuliah.\n",
    "biasanya pemanggilannya dengan menggunakan nama parrentnya.<br>\n",
    "Contoh :\n",
    "1. Property atau konstraktor\n",
    "    - mahasiswa.__init__(self,nama,npm)\n",
    "2. Pemanggilan Method\n",
    "    - mahasiswa.printData(self)"
   ]
  },
  {
   "cell_type": "code",
   "execution_count": 1,
   "metadata": {},
   "outputs": [
    {
     "name": "stdout",
     "output_type": "stream",
     "text": [
      "                               ===== No. 4 =====                                \n",
      "Nama : CAHYO\n",
      "NIM  : 17061\n",
      "Nilai Matematika  : 3.50\n",
      "Nilai Bahasa Indo : 3.75\n",
      "Nilai Bhs Inggris : 4.00\n",
      "==========================\n",
      "===== IPS : 3.75 \n",
      "==========================\n",
      "\n"
     ]
    }
   ],
   "source": [
    "#contoh dari multiple inheritance\n",
    "\n",
    "print('===== No. 4 ====='.center(80))\n",
    "class mahasiswa:\n",
    "    def __init__(self,nama,npm):\n",
    "        self.nama = nama\n",
    "        self.npm = npm\n",
    "    def printData(self):\n",
    "        print('Nama :',self.nama.upper())\n",
    "        print('NIM  :',self.npm)\n",
    "        \n",
    "class matakuliah:\n",
    "    def __init__(self,kode_matkul,nama_matkul):\n",
    "        self.kode_matkul = kode_matkul\n",
    "        self.nama_matkul = nama_matkul\n",
    "\n",
    "class krs(mahasiswa,matakuliah):\n",
    "    def __init__(self,nama,npm,kode_matkul,nama_matkul,nilai):\n",
    "        self.nilai = nilai\n",
    "        mahasiswa.__init__(self,nama,npm)\n",
    "        matakuliah.__init__(self,kode_matkul,nama_matkul)\n",
    "    def printNilai(self):\n",
    "        print('Nilai %s : %0.2f'%(self.nama_matkul,self.nilai))\n",
    "\n",
    "#main program\n",
    "#Langsung\n",
    "        \n",
    "cahyo_mtk = krs('cahyo','17061','TIF102','Matematika ',3.5)\n",
    "cahyo_bin = krs('cahyo','17061','TIF103','Bahasa Indo',3.75)\n",
    "cahyo_big = krs('cahyo','17061','TIF104','Bhs Inggris',4)\n",
    "cahyo_ips = (cahyo_mtk.nilai + cahyo_bin.nilai + cahyo_big.nilai)/3\n",
    "\n",
    "cahyo_mtk.printData()\n",
    "cahyo_mtk.printNilai()\n",
    "cahyo_bin.printNilai()\n",
    "cahyo_big.printNilai()\n",
    "print('==========================')\n",
    "print('===== IPS : %0.2f '%cahyo_ips)\n",
    "print('==========================\\n')"
   ]
  }
 ],
 "metadata": {
  "kernelspec": {
   "display_name": "Python 3",
   "language": "python",
   "name": "python3"
  },
  "language_info": {
   "codemirror_mode": {
    "name": "ipython",
    "version": 3
   },
   "file_extension": ".py",
   "mimetype": "text/x-python",
   "name": "python",
   "nbconvert_exporter": "python",
   "pygments_lexer": "ipython3",
   "version": "3.6.5"
  }
 },
 "nbformat": 4,
 "nbformat_minor": 2
}
